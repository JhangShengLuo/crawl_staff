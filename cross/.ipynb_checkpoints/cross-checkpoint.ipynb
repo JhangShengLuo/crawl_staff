{
 "cells": [
  {
   "cell_type": "code",
   "execution_count": 1,
   "metadata": {
    "collapsed": true
   },
   "outputs": [],
   "source": [
    "import requests\n",
    "from bs4 import BeautifulSoup as bs\n",
    "import pandas as pd\n",
    "import numpy as np"
   ]
  },
  {
   "cell_type": "code",
   "execution_count": 2,
   "metadata": {
    "collapsed": true
   },
   "outputs": [],
   "source": [
    "url = \"http://www.com.tw/cross/university_017_102.html\"\n",
    "\n",
    "res = requests.get(url)\n",
    "soup = bs(res.text,\"html5lib\")\n",
    "tb = soup.select('#table1')[0]"
   ]
  },
  {
   "cell_type": "code",
   "execution_count": null,
   "metadata": {
    "collapsed": true
   },
   "outputs": [],
   "source": []
  },
  {
   "cell_type": "code",
   "execution_count": 68,
   "metadata": {},
   "outputs": [],
   "source": [
    "dfs = pd.read_html(tb.prettify('utf-8'), encoding='utf-8')[0]\n",
    "\n",
    "\n",
    "\n",
    "dfs = dfs.dropna(how=\"all\",axis=(0,1)).iloc[1:,:2]\n",
    "\n",
    "\n",
    "dfs.columns = dfs.iloc[0,:].values.tolist()\n",
    "\n",
    "dfs = dfs.iloc[1:,:].reset_index(drop=True)\n",
    "\n",
    "dfs.iloc[:,0] = dfs.iloc[:,0].str[1:-1]"
   ]
  },
  {
   "cell_type": "code",
   "execution_count": 98,
   "metadata": {},
   "outputs": [
    {
     "data": {
      "text/plain": [
       "array(['017162'], dtype=object)"
      ]
     },
     "execution_count": 98,
     "metadata": {},
     "output_type": "execute_result"
    }
   ],
   "source": [
    "dfs.iloc[:,0].values[15:16]"
   ]
  },
  {
   "cell_type": "code",
   "execution_count": 99,
   "metadata": {},
   "outputs": [],
   "source": [
    "url2 = \"http://www.com.tw/cross/check_{}_NO_1_102_0_3.html\"\n",
    "\n",
    "import time\n",
    "for num in dfs.iloc[:,0].values[15:16]:\n",
    "    time.sleep(2)\n",
    "    res2 = requests.get(url2.format(num))\n",
    "#     print(res2)\n",
    "    soup2 = bs(res2.text,\"html5lib\")\n",
    "    tb2 = soup2.select('#mainContent table')[0]"
   ]
  },
  {
   "cell_type": "code",
   "execution_count": 88,
   "metadata": {
    "collapsed": true
   },
   "outputs": [],
   "source": [
    "dfs2 = pd.read_html(tb2.prettify('utf-8'), encoding='utf-8')[0]"
   ]
  },
  {
   "cell_type": "code",
   "execution_count": null,
   "metadata": {
    "collapsed": true
   },
   "outputs": [],
   "source": []
  },
  {
   "cell_type": "code",
   "execution_count": null,
   "metadata": {
    "collapsed": true
   },
   "outputs": [],
   "source": []
  },
  {
   "cell_type": "code",
   "execution_count": null,
   "metadata": {},
   "outputs": [],
   "source": []
  },
  {
   "cell_type": "code",
   "execution_count": null,
   "metadata": {
    "collapsed": true
   },
   "outputs": [],
   "source": []
  }
 ],
 "metadata": {
  "kernelspec": {
   "display_name": "Python 3",
   "language": "python",
   "name": "python3"
  },
  "language_info": {
   "codemirror_mode": {
    "name": "ipython",
    "version": 3
   },
   "file_extension": ".py",
   "mimetype": "text/x-python",
   "name": "python",
   "nbconvert_exporter": "python",
   "pygments_lexer": "ipython3",
   "version": "3.6.1"
  }
 },
 "nbformat": 4,
 "nbformat_minor": 2
}
